{
  "nbformat": 4,
  "nbformat_minor": 0,
  "metadata": {
    "colab": {
      "provenance": []
    },
    "kernelspec": {
      "name": "python3",
      "display_name": "Python 3"
    },
    "language_info": {
      "name": "python"
    }
  },
  "cells": [
    {
      "source": [
        "class Shape:\n",
        "  def area(self):\n",
        "    pass\n",
        "class Rectangular(Shape):\n",
        "  def __init__(self, length,width):\n",
        "    self.length=length\n",
        "    self.width=width\n",
        "  def area(self):\n",
        "    return self.length*self.width\n",
        "class circle(Shape):\n",
        "  def __init__(self,radius):\n",
        "    self.radius=radius\n",
        "  def area(self):\n",
        "    return 3.14*(self.radius**2)\n",
        "shapes=[Rectangular(4,5),circle(3)]\n",
        "for shape in shapes:\n",
        "  print(shape.area())"
      ],
      "cell_type": "code",
      "metadata": {
        "id": "Ps-hr4fy-nY3",
        "outputId": "4a58c5d4-f708-4171-af89-d2fbabd52d83",
        "colab": {
          "base_uri": "https://localhost:8080/"
        }
      },
      "execution_count": 134,
      "outputs": [
        {
          "output_type": "stream",
          "name": "stdout",
          "text": [
            "20\n",
            "28.26\n"
          ]
        }
      ]
    }
  ]
}