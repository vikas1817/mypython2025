{
  "nbformat": 4,
  "nbformat_minor": 0,
  "metadata": {
    "colab": {
      "provenance": []
    },
    "kernelspec": {
      "name": "python3",
      "display_name": "Python 3"
    },
    "language_info": {
      "name": "python"
    }
  },
  "cells": [
    {
      "cell_type": "code",
      "source": [
        "file=open(\"/content/1.aux\",'r')\n",
        "content=file.read()\n",
        "print()\n",
        "file.close()"
      ],
      "metadata": {
        "colab": {
          "base_uri": "https://localhost:8080/"
        },
        "id": "gZqvIAS0H0X-",
        "outputId": "4f099ec3-b435-4874-bf1b-d501b0d81d44"
      },
      "execution_count": 10,
      "outputs": [
        {
          "output_type": "stream",
          "name": "stdout",
          "text": [
            "\n"
          ]
        }
      ]
    },
    {
      "cell_type": "code",
      "source": [
        "a=open(\"/content/1.log\",'r')\n",
        "content=a.read()\n",
        "print(content)\n",
        "a.close()"
      ],
      "metadata": {
        "colab": {
          "base_uri": "https://localhost:8080/"
        },
        "id": "AUNvPFz2IkQm",
        "outputId": "079bf3a0-2fb0-4f29-a0d4-eecf24b7a2bc"
      },
      "execution_count": 16,
      "outputs": [
        {
          "output_type": "stream",
          "name": "stdout",
          "text": [
            "This is pdfTeX, Version 3.141592653-2.6-1.40.22 (TeX Live 2022/dev/Debian) (preloaded format=pdflatex 2024.5.6)  4 MAR 2025 10:44\n",
            "entering extended mode\n",
            " restricted \\write18 enabled.\n",
            " %&-line parsing enabled.\n",
            "**1.tex\n",
            "(./1.tex\n",
            "LaTeX2e <2021-11-15> patch level 1\n",
            "L3 programming layer <2022-01-21>\n",
            "(/usr/share/texlive/texmf-dist/tex/latex/base/article.cls\n",
            "Document Class: article 2021/10/04 v1.4n Standard LaTeX document class\n",
            "(/usr/share/texlive/texmf-dist/tex/latex/base/size10.clo\n",
            "File: size10.clo 2021/10/04 v1.4n Standard LaTeX file (size option)\n",
            ")\n",
            "\\c@part=\\count185\n",
            "\\c@section=\\count186\n",
            "\\c@subsection=\\count187\n",
            "\\c@subsubsection=\\count188\n",
            "\\c@paragraph=\\count189\n",
            "\\c@subparagraph=\\count190\n",
            "\\c@figure=\\count191\n",
            "\\c@table=\\count192\n",
            "\\abovecaptionskip=\\skip47\n",
            "\\belowcaptionskip=\\skip48\n",
            "\\bibindent=\\dimen138\n",
            ")\n",
            "(/usr/share/texlive/texmf-dist/tex/latex/l3backend/l3backend-pdftex.def\n",
            "File: l3backend-pdftex.def 2022-01-12 L3 backend support: PDF output (pdfTeX)\n",
            "\\l__color_backend_stack_int=\\count193\n",
            "\\l__pdf_internal_box=\\box50\n",
            ")\n",
            "(./1.aux)\n",
            "\\openout1 = `1.aux'.\n",
            "\n",
            "LaTeX Font Info:    Checking defaults for OML/cmm/m/it on input line 6.\n",
            "LaTeX Font Info:    ... okay on input line 6.\n",
            "LaTeX Font Info:    Checking defaults for OMS/cmsy/m/n on input line 6.\n",
            "LaTeX Font Info:    ... okay on input line 6.\n",
            "LaTeX Font Info:    Checking defaults for OT1/cmr/m/n on input line 6.\n",
            "LaTeX Font Info:    ... okay on input line 6.\n",
            "LaTeX Font Info:    Checking defaults for T1/cmr/m/n on input line 6.\n",
            "LaTeX Font Info:    ... okay on input line 6.\n",
            "LaTeX Font Info:    Checking defaults for TS1/cmr/m/n on input line 6.\n",
            "LaTeX Font Info:    ... okay on input line 6.\n",
            "LaTeX Font Info:    Checking defaults for OMX/cmex/m/n on input line 6.\n",
            "LaTeX Font Info:    ... okay on input line 6.\n",
            "LaTeX Font Info:    Checking defaults for U/cmr/m/n on input line 6.\n",
            "LaTeX Font Info:    ... okay on input line 6.\n",
            "LaTeX Font Info:    External font `cmex10' loaded for size\n",
            "(Font)              <12> on input line 7.\n",
            "LaTeX Font Info:    External font `cmex10' loaded for size\n",
            "(Font)              <8> on input line 7.\n",
            "LaTeX Font Info:    External font `cmex10' loaded for size\n",
            "(Font)              <6> on input line 7.\n",
            " [1\n",
            "\n",
            "{/var/lib/texmf/fonts/map/pdftex/updmap/pdftex.map}] (./1.aux) ) \n",
            "Here is how much of TeX's memory you used:\n",
            " 425 strings out of 480204\n",
            " 7606 string characters out of 5895011\n",
            " 293708 words of memory out of 5000000\n",
            " 18447 multiletter control sequences out of 15000+600000\n",
            " 472901 words of font info for 40 fonts, out of 8000000 for 9000\n",
            " 36 hyphenation exceptions out of 8191\n",
            " 34i,6n,38p,207b,191s stack positions out of 5000i,500n,10000p,200000b,80000s\n",
            "</usr/share/tex\n",
            "live/texmf-dist/fonts/type1/public/amsfonts/cm/cmbx9.pfb></usr/share/texlive/te\n",
            "xmf-dist/fonts/type1/public/amsfonts/cm/cmr10.pfb></usr/share/texlive/texmf-dis\n",
            "t/fonts/type1/public/amsfonts/cm/cmr12.pfb></usr/share/texlive/texmf-dist/fonts\n",
            "/type1/public/amsfonts/cm/cmr17.pfb></usr/share/texlive/texmf-dist/fonts/type1/\n",
            "public/amsfonts/cm/cmr9.pfb>\n",
            "Output written on 1.pdf (1 page, 58728 bytes).\n",
            "PDF statistics:\n",
            " 33 PDF objects out of 1000 (max. 8388607)\n",
            " 19 compressed objects within 1 object stream\n",
            " 0 named destinations out of 1000 (max. 500000)\n",
            " 1 words of extra memory for PDF output out of 10000 (max. 10000000)\n",
            "\n",
            "\n"
          ]
        }
      ]
    }
  ]
}