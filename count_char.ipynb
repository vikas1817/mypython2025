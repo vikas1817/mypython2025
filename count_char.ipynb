{
  "nbformat": 4,
  "nbformat_minor": 0,
  "metadata": {
    "colab": {
      "provenance": []
    },
    "kernelspec": {
      "name": "python3",
      "display_name": "Python 3"
    },
    "language_info": {
      "name": "python"
    }
  },
  "cells": [
    {
      "cell_type": "code",
      "source": [
        "def count_characters_in_file(file_name):\n",
        "    try:\n",
        "\n",
        "        with open(\"/content/vijay.ipynb - Colab.html\", 'r') as file:\n",
        "            content = file.read()\n",
        "            character_count = len(content)\n",
        "        return character_count\n",
        "    except FileNotFoundError:\n",
        "        print(f\"The file '{file_name}' was not found.\")\n",
        "        return 0\n",
        "    except Exception as e:\n",
        "        print(f\"An error occurred: {e}\")\n",
        "        return 0\n",
        "character_count = count_characters_in_file(file_name)\n",
        "\n",
        "if character_count > 0:\n",
        "    print(f\"The file '{file_name}' contains {character_count} characters.\")\n"
      ],
      "metadata": {
        "id": "SeJsWn49frNs",
        "colab": {
          "base_uri": "https://localhost:8080/"
        },
        "outputId": "08b62317-325f-4c6e-d223-d7a1030f019e"
      },
      "execution_count": 43,
      "outputs": [
        {
          "output_type": "stream",
          "name": "stdout",
          "text": [
            "The file 'vijay' contains 17 characters.\n"
          ]
        }
      ]
    }
  ]
}