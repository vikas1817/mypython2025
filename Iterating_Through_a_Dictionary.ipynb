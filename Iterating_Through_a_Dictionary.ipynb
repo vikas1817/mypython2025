{
  "nbformat": 4,
  "nbformat_minor": 0,
  "metadata": {
    "colab": {
      "provenance": []
    },
    "kernelspec": {
      "name": "python3",
      "display_name": "Python 3"
    },
    "language_info": {
      "name": "python"
    }
  },
  "cells": [
    {
      "cell_type": "code",
      "source": [
        "my_dict = {\n",
        "    'name': 'Rajesh Kannan',\n",
        "    'age': 25,\n",
        "    'city': 'New York',\n",
        "    'email': 'alice@example.com'\n",
        "}\n",
        "\n",
        "\n",
        "for key, value in my_dict.items():\n",
        "    print(f\" {key}, : {value}\")\n"
      ],
      "metadata": {
        "colab": {
          "base_uri": "https://localhost:8080/"
        },
        "id": "FGQL0M574c18",
        "outputId": "b1632ee3-9c62-4b31-a3e8-154d1f84bf1f"
      },
      "execution_count": 83,
      "outputs": [
        {
          "output_type": "stream",
          "name": "stdout",
          "text": [
            " name, : Rajesh Kannan\n",
            " age, : 25\n",
            " city, : New York\n",
            " email, : alice@example.com\n"
          ]
        }
      ]
    }
  ]
}