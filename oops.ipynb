{
  "nbformat": 4,
  "nbformat_minor": 0,
  "metadata": {
    "colab": {
      "provenance": []
    },
    "kernelspec": {
      "name": "python3",
      "display_name": "Python 3"
    },
    "language_info": {
      "name": "python"
    }
  },
  "cells": [
    {
      "cell_type": "code",
      "execution_count": 17,
      "metadata": {
        "colab": {
          "base_uri": "https://localhost:8080/"
        },
        "id": "iInLgaC558Ek",
        "outputId": "65572ec3-ef3e-4503-ce7a-13cacbab43bb"
      },
      "outputs": [
        {
          "output_type": "stream",
          "name": "stdout",
          "text": [
            "area of circle(self.radius)\n"
          ]
        },
        {
          "output_type": "execute_result",
          "data": {
            "text/plain": [
              "153.86"
            ]
          },
          "metadata": {},
          "execution_count": 17
        }
      ],
      "source": [
        "class circle:\n",
        "  def __init__(self,radius):\n",
        "    self.radius=radius\n",
        "  def area(self):\n",
        "    return 3.14*self.radius*self.radius\n",
        "  print(f\"area of circle(self.radius)\")\n",
        "circle1=circle(7)\n",
        "circle1.area()"
      ]
    }
  ]
}