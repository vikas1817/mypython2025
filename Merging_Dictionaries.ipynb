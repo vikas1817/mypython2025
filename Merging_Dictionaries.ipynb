{
  "nbformat": 4,
  "nbformat_minor": 0,
  "metadata": {
    "colab": {
      "provenance": []
    },
    "kernelspec": {
      "name": "python3",
      "display_name": "Python 3"
    },
    "language_info": {
      "name": "python"
    }
  },
  "cells": [
    {
      "cell_type": "code",
      "source": [
        "dict1 = {'name': 'Yashas', 'age': 20}\n",
        "dict2 = {'city': 'Tumakuru', 'email': 'yashasyh@gmail.com'}\n",
        "merged_dict = {**dict1, **dict2}\n",
        "print(\"Merged Dictionary:\", merged_dict)\n"
      ],
      "metadata": {
        "colab": {
          "base_uri": "https://localhost:8080/"
        },
        "id": "Z1ed-_4w5NEu",
        "outputId": "9b3fa778-f78b-40e1-d9a9-535fc2b83bf9"
      },
      "execution_count": 86,
      "outputs": [
        {
          "output_type": "stream",
          "name": "stdout",
          "text": [
            "Merged Dictionary: {'name': 'Yashas', 'age': 20, 'city': 'Tumakuru', 'email': 'yashasyh@gmail.com'}\n"
          ]
        }
      ]
    }
  ]
}