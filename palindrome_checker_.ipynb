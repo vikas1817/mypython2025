{
  "nbformat": 4,
  "nbformat_minor": 0,
  "metadata": {
    "colab": {
      "provenance": []
    },
    "kernelspec": {
      "name": "python3",
      "display_name": "Python 3"
    },
    "language_info": {
      "name": "python"
    }
  },
  "cells": [
    {
      "cell_type": "code",
      "execution_count": 1,
      "metadata": {
        "colab": {
          "base_uri": "https://localhost:8080/"
        },
        "id": "12lCes-qi6Kb",
        "outputId": "a953f2e0-02b6-4b7d-b1e2-ea70ac9cf3f4"
      },
      "outputs": [
        {
          "output_type": "stream",
          "name": "stdout",
          "text": [
            "HELLO, PYTHON !\n"
          ]
        }
      ],
      "source": [
        "def greet():\n",
        "    print(\"HELLO, PYTHON !\")\n",
        "\n",
        "# Call the function\n",
        "greet()\n"
      ]
    },
    {
      "cell_type": "code",
      "source": [
        "def sum_numbers(a,b):\n",
        "  return a+b\n",
        "result = sum_numbers(5,3)\n",
        "print(result)\n"
      ],
      "metadata": {
        "colab": {
          "base_uri": "https://localhost:8080/"
        },
        "id": "VjWWWKztkXj9",
        "outputId": "6e38c167-522c-41cf-f29b-1a7b4ca24dd2"
      },
      "execution_count": 5,
      "outputs": [
        {
          "output_type": "stream",
          "name": "stdout",
          "text": [
            "8\n"
          ]
        }
      ]
    },
    {
      "cell_type": "code",
      "source": [
        "def factorial(n):\n",
        "    # Base case: if n is 0 or 1, return 1\n",
        "    if n == 0 or n == 1:\n",
        "        return 1\n",
        "    # Recursive case: n * factorial of (n-1)\n",
        "    else:\n",
        "        return n * factorial(n - 1)\n",
        "\n",
        "# Example usage:\n",
        "num = 5\n",
        "print(f\"The factorial of {num} is {factorial(num)}\")\n"
      ],
      "metadata": {
        "colab": {
          "base_uri": "https://localhost:8080/"
        },
        "id": "OxNpGhRalEoT",
        "outputId": "d446c4f6-173a-438b-a5ca-5055871192e4"
      },
      "execution_count": 6,
      "outputs": [
        {
          "output_type": "stream",
          "name": "stdout",
          "text": [
            "The factorial of 5 is 120\n"
          ]
        }
      ]
    },
    {
      "cell_type": "code",
      "source": [
        "def is_prime(n):\n",
        "  if n <= 2:\n",
        "    return False\n",
        "  for i in range(2, int(n**0.5) + 1):\n",
        "      if n % i == 0:\n",
        "        return False\n",
        "      return True\n",
        "print(is_prime(10))\n",
        "print(is_prime(7))\n",
        ""
      ],
      "metadata": {
        "colab": {
          "base_uri": "https://localhost:8080/"
        },
        "id": "FHHVWM3pmf4s",
        "outputId": "ec20ce7e-9dca-4fd1-b541-9d38912e362c"
      },
      "execution_count": 23,
      "outputs": [
        {
          "output_type": "stream",
          "name": "stdout",
          "text": [
            "False\n",
            "True\n"
          ]
        }
      ]
    },
    {
      "cell_type": "code",
      "source": [
        "def largest_of_three(a, b, c):\n",
        "    return max(a, b, c)\n",
        "print(largest_of_three(1, 7, 10))\n",
        "print(largest_of_three(3, 2, 1))\n"
      ],
      "metadata": {
        "colab": {
          "base_uri": "https://localhost:8080/"
        },
        "id": "5nq6DmLfrIPF",
        "outputId": "06f5a206-459d-4e55-fa08-1b40380a6cce"
      },
      "execution_count": 37,
      "outputs": [
        {
          "output_type": "stream",
          "name": "stdout",
          "text": [
            "10\n",
            "3\n"
          ]
        }
      ]
    },
    {
      "cell_type": "code",
      "source": [
        "def is_armstrong(n):\n",
        "    digits = str(n)\n",
        "    num_digits = len(digits)\n",
        "    sum_of_powers = sum(int(digit) ** num_digits for digit in digits)\n",
        "    return sum_of_powers == n\n"
      ],
      "metadata": {
        "id": "DWX4StRqsONr"
      },
      "execution_count": 45,
      "outputs": []
    }
  ]
}