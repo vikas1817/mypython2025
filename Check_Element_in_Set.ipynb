{
  "nbformat": 4,
  "nbformat_minor": 0,
  "metadata": {
    "colab": {
      "provenance": []
    },
    "kernelspec": {
      "name": "python3",
      "display_name": "Python 3"
    },
    "language_info": {
      "name": "python"
    }
  },
  "cells": [
    {
      "cell_type": "code",
      "source": [
        "my_set = {1, 2, 3, 4, 5}\n",
        "element_to_check = 5\n",
        "if element_to_check in my_set:\n",
        "    print(f\"Element {element_to_check} exists in the set.\")\n",
        "else:\n",
        "    print(f\"Element {element_to_check} does not exist in the set.\")\n"
      ],
      "metadata": {
        "colab": {
          "base_uri": "https://localhost:8080/"
        },
        "id": "h7fRGMC17wtv",
        "outputId": "79755620-2327-4bde-ec85-37b5fd64c99e"
      },
      "execution_count": 96,
      "outputs": [
        {
          "output_type": "stream",
          "name": "stdout",
          "text": [
            "Element 5 exists in the set.\n"
          ]
        }
      ]
    }
  ]
}