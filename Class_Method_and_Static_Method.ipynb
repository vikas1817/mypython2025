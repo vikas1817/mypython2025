{
  "nbformat": 4,
  "nbformat_minor": 0,
  "metadata": {
    "colab": {
      "provenance": []
    },
    "kernelspec": {
      "name": "python3",
      "display_name": "Python 3"
    },
    "language_info": {
      "name": "python"
    }
  },
  "cells": [
    {
      "cell_type": "code",
      "source": [
        "class MyClass:\n",
        "    class_variable = \"I am a class variable\"\n",
        "\n",
        "    def __init__(self, value):\n",
        "\n",
        "        self.value = value\n",
        "    @classmethod\n",
        "    def class_method(cls):\n",
        "\n",
        "        print(f\"Class Method: {cls.class_variable}\")\n",
        "\n",
        "\n",
        "    @staticmethod\n",
        "    def static_method():\n",
        "\n",
        "        print(\"Static Method: I don't depend on class or instance state!\")\n",
        "\n",
        "\n",
        "obj = MyClass(10)\n",
        "\n",
        "\n",
        "obj.class_method()\n",
        "\n",
        "obj.static_method()\n",
        "\n",
        "MyClass.class_method()\n",
        "MyClass.static_method()\n",
        "\n"
      ],
      "metadata": {
        "id": "zsBGs12RFIiK",
        "outputId": "328d129e-6779-415c-cd68-51a12056fcaf",
        "colab": {
          "base_uri": "https://localhost:8080/"
        }
      },
      "execution_count": 154,
      "outputs": [
        {
          "output_type": "stream",
          "name": "stdout",
          "text": [
            "Class Method: I am a class variable\n",
            "Static Method: I don't depend on class or instance state!\n",
            "Class Method: I am a class variable\n",
            "Static Method: I don't depend on class or instance state!\n"
          ]
        }
      ]
    }
  ]
}