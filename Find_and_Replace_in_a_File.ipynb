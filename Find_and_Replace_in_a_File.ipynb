{
  "nbformat": 4,
  "nbformat_minor": 0,
  "metadata": {
    "colab": {
      "provenance": []
    },
    "kernelspec": {
      "name": "python3",
      "display_name": "Python 3"
    },
    "language_info": {
      "name": "python"
    }
  },
  "cells": [
    {
      "cell_type": "code",
      "source": [
        "def find_and_replace_in_file(file_name, old_word, new_word):\n",
        "    try:\n",
        "        with open(\"/content/vijay.ipynb - Colab.html\", 'r') as file:\n",
        "            content = file.read()\n",
        "\n",
        "\n",
        "        modified_content = content.replace(old_word, new_word)\n",
        "\n",
        "\n",
        "        with open(file_name, 'w') as file:\n",
        "            file.write(modified_content)\n",
        "\n",
        "        print(f\"Replaced '{old_word}' with '{new_word}' in '{file_name}'.\")\n",
        "\n",
        "    except FileNotFoundError:\n",
        "        print(f\"The file '{file_name}' was not found.\")\n",
        "    except Exception as e:\n",
        "        print(f\"An error occurred: {e}\")\n",
        "\n",
        "file_name = input(\"Enter the file name: \")\n",
        "old_word = input(\"Enter the word to be replaced: \")\n",
        "new_word = input(\"Enter the new word: \")\n",
        "\n",
        "find_and_replace_in_file(file_name, old_word, new_word)\n"
      ],
      "metadata": {
        "colab": {
          "base_uri": "https://localhost:8080/"
        },
        "id": "CSNfRx7Qh2ez",
        "outputId": "a8d51276-43ad-475c-cfaa-533bd1080022"
      },
      "execution_count": 47,
      "outputs": [
        {
          "output_type": "stream",
          "name": "stdout",
          "text": [
            "Enter the file name: vijay\n",
            "Enter the word to be replaced: vikas\n",
            "Enter the new word: yashas\n",
            "Replaced 'vikas' with 'yashas' in 'vijay'.\n"
          ]
        }
      ]
    }
  ]
}