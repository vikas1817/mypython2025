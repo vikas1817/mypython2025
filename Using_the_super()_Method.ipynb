{
  "nbformat": 4,
  "nbformat_minor": 0,
  "metadata": {
    "colab": {
      "provenance": []
    },
    "kernelspec": {
      "name": "python3",
      "display_name": "Python 3"
    },
    "language_info": {
      "name": "python"
    }
  },
  "cells": [
    {
      "cell_type": "code",
      "source": [
        "class Animal:\n",
        "    def __init__(self, name):\n",
        "        self.name = name\n",
        "    def sound(self):\n",
        "        print(\"Some generic animal sound\")\n",
        "    def describe(self):\n",
        "       print(f\"I am an animal named {self.name}\")\n",
        "class Dog(Animal):\n",
        "    def __init__(self, name, breed):\n",
        "        super().__init__(name)\n",
        "        self.breed = breed\n",
        "\n",
        "    def sound(self):\n",
        "\n",
        "        super().sound()\n",
        "        print(\"Woof! Woof!\")\n",
        "\n",
        "    def describe(self):\n",
        "\n",
        "        super().describe()\n",
        "        print(f\"I am a {self.breed} dog.\")\n",
        "\n",
        "\n",
        "class Cat(Animal):\n",
        "    def __init__(self, name, color):\n",
        "\n",
        "        super().__init__(name)\n",
        "        self.color = color\n",
        "\n",
        "    def sound(self):\n",
        "        super().sound()\n",
        "        print(\"Meow! Meow!\")\n",
        "    def describe(self):\n",
        "        super().describe()\n",
        "dog = Dog(\"Buddy\", \"Golden Retriever\")\n",
        "cat = Cat(\"Whiskers\", \"Black\")\n",
        "print(\"Dog Details:\")\n",
        "dog.describe()\n",
        "dog.sound()\n",
        "\n",
        "print(\"\\nCat Details:\")\n",
        "cat.describe()\n",
        "cat.sound()\n"
      ],
      "metadata": {
        "id": "kQX-sYbgDruo",
        "outputId": "178407a4-610b-4113-8b9a-e821315826ae",
        "colab": {
          "base_uri": "https://localhost:8080/"
        }
      },
      "execution_count": 150,
      "outputs": [
        {
          "output_type": "stream",
          "name": "stdout",
          "text": [
            "Dog Details:\n",
            "I am an animal named Buddy\n",
            "I am a Golden Retriever dog.\n",
            "Some generic animal sound\n",
            "Woof! Woof!\n",
            "\n",
            "Cat Details:\n",
            "I am an animal named Whiskers\n",
            "Some generic animal sound\n",
            "Meow! Meow!\n"
          ]
        }
      ]
    }
  ]
}