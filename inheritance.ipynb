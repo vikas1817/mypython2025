{
  "nbformat": 4,
  "nbformat_minor": 0,
  "metadata": {
    "colab": {
      "provenance": []
    },
    "kernelspec": {
      "name": "python3",
      "display_name": "Python 3"
    },
    "language_info": {
      "name": "python"
    }
  },
  "cells": [
    {
      "cell_type": "code",
      "source": [
        "class animal:\n",
        "  def speak(self):\n",
        "    print(\"animal speaking\")\n",
        "class dog(animal):\n",
        "  def bark(self):\n",
        "    print(\"dog barking\")\n",
        "d=dog()\n",
        "d.bark()\n",
        "d.speak()"
      ],
      "metadata": {
        "colab": {
          "base_uri": "https://localhost:8080/"
        },
        "id": "P87mv8d7Oy1z",
        "outputId": "4345b999-0bfe-4bcf-cb19-f980334427af"
      },
      "execution_count": 45,
      "outputs": [
        {
          "output_type": "stream",
          "name": "stdout",
          "text": [
            "dog barking\n",
            "animal speaking\n"
          ]
        }
      ]
    }
  ]
}