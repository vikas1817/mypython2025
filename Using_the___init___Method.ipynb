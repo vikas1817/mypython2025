{
  "nbformat": 4,
  "nbformat_minor": 0,
  "metadata": {
    "colab": {
      "provenance": []
    },
    "kernelspec": {
      "name": "python3",
      "display_name": "Python 3"
    },
    "language_info": {
      "name": "python"
    }
  },
  "cells": [
    {
      "cell_type": "code",
      "source": [
        "class Person:\n",
        "    name = \"\"\n",
        "    age = 0\n",
        "\n",
        "    def display(self):\n",
        "        print(f\"Name: {self.name}, Age: {self.age}\")\n",
        "\n",
        "person1 = Person()\n",
        "person1.name = \"John\"\n",
        "person1.age = 30\n",
        "person1.display()\n"
      ],
      "metadata": {
        "id": "nK8iauUkAh3l",
        "outputId": "86152ebc-a48e-49c3-8759-496be7d4f407",
        "colab": {
          "base_uri": "https://localhost:8080/"
        }
      },
      "execution_count": 135,
      "outputs": [
        {
          "output_type": "stream",
          "name": "stdout",
          "text": [
            "Name: John, Age: 30\n"
          ]
        }
      ]
    }
  ]
}